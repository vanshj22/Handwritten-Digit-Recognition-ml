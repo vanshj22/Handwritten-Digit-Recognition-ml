{
 "cells": [
  {
   "cell_type": "markdown",
   "metadata": {},
   "source": [
    "Importing libraries and getting mnist dataset from keras"
   ]
  },
  {
   "cell_type": "code",
   "execution_count": 2,
   "metadata": {},
   "outputs": [],
   "source": [
    "import numpy as np\n",
    "import pandas as pd\n",
    "import matplotlib.pyplot as plt\n",
    "\n",
    "import tensorflow as tf\n",
    "from tensorflow import keras\n",
    "# from keras.models import Sequential\n",
    "from keras.layers import Dense, Conv2D, MaxPool2D, Flatten, Dropout\n",
    "from keras.callbacks import EarlyStopping, ModelCheckpoint"
   ]
  },
  {
   "cell_type": "markdown",
   "metadata": {},
   "source": [
    "Loading Data\n",
    "\n",
    "Importing kaggle dataset from downloaded repository"
   ]
  },
  {
   "cell_type": "code",
   "execution_count": 3,
   "metadata": {},
   "outputs": [],
   "source": [
    "train = pd.read_csv('digit-recognizer-kaggledataset/train.csv')#data\n",
    "test = pd.read_csv('digit-recognizer-kaggledataset/test.csv')"
   ]
  },
  {
   "cell_type": "code",
   "execution_count": 4,
   "metadata": {},
   "outputs": [
    {
     "data": {
      "text/plain": [
       "<bound method DataFrame.info of        label  pixel0  pixel1  pixel2  pixel3  pixel4  pixel5  pixel6  pixel7  \\\n",
       "0          1       0       0       0       0       0       0       0       0   \n",
       "1          0       0       0       0       0       0       0       0       0   \n",
       "2          1       0       0       0       0       0       0       0       0   \n",
       "3          4       0       0       0       0       0       0       0       0   \n",
       "4          0       0       0       0       0       0       0       0       0   \n",
       "...      ...     ...     ...     ...     ...     ...     ...     ...     ...   \n",
       "41995      0       0       0       0       0       0       0       0       0   \n",
       "41996      1       0       0       0       0       0       0       0       0   \n",
       "41997      7       0       0       0       0       0       0       0       0   \n",
       "41998      6       0       0       0       0       0       0       0       0   \n",
       "41999      9       0       0       0       0       0       0       0       0   \n",
       "\n",
       "       pixel8  ...  pixel774  pixel775  pixel776  pixel777  pixel778  \\\n",
       "0           0  ...         0         0         0         0         0   \n",
       "1           0  ...         0         0         0         0         0   \n",
       "2           0  ...         0         0         0         0         0   \n",
       "3           0  ...         0         0         0         0         0   \n",
       "4           0  ...         0         0         0         0         0   \n",
       "...       ...  ...       ...       ...       ...       ...       ...   \n",
       "41995       0  ...         0         0         0         0         0   \n",
       "41996       0  ...         0         0         0         0         0   \n",
       "41997       0  ...         0         0         0         0         0   \n",
       "41998       0  ...         0         0         0         0         0   \n",
       "41999       0  ...         0         0         0         0         0   \n",
       "\n",
       "       pixel779  pixel780  pixel781  pixel782  pixel783  \n",
       "0             0         0         0         0         0  \n",
       "1             0         0         0         0         0  \n",
       "2             0         0         0         0         0  \n",
       "3             0         0         0         0         0  \n",
       "4             0         0         0         0         0  \n",
       "...         ...       ...       ...       ...       ...  \n",
       "41995         0         0         0         0         0  \n",
       "41996         0         0         0         0         0  \n",
       "41997         0         0         0         0         0  \n",
       "41998         0         0         0         0         0  \n",
       "41999         0         0         0         0         0  \n",
       "\n",
       "[42000 rows x 785 columns]>"
      ]
     },
     "execution_count": 4,
     "metadata": {},
     "output_type": "execute_result"
    }
   ],
   "source": [
    "train.info"
   ]
  },
  {
   "cell_type": "markdown",
   "metadata": {},
   "source": [
    "Dividing dataset train.csv into train_y and train_x\n",
    "\n",
    "mnist.load_data?"
   ]
  },
  {
   "cell_type": "code",
   "execution_count": 8,
   "metadata": {},
   "outputs": [
    {
     "name": "stdout",
     "output_type": "stream",
     "text": [
      "x_train => (42000, 784)\n",
      "y_train => (42000,)\n",
      "x_test => (28000, 784)\n"
     ]
    }
   ],
   "source": [
    "x_train = train.drop('label',axis=1)        #**x_train**: uint8 NumPy array of grayscale image data with shapes, containing the training data. Pixel values range from 0 to 255.\n",
    "y_train = train['label'].values             #**y_train**: uint8 NumPy array of digit labels (integers in range 0-9) for the training data.\n",
    "\n",
    "x_test = test.values                        #**x_test**: uint8 NumPy array of grayscale image data with shapes, containing the test data.\n",
    "print(\"x_train => {0}\\ny_train => {1}\\nx_test => {2}\".format(x_train.shape, y_train.shape,x_test.shape))"
   ]
  },
  {
   "cell_type": "markdown",
   "metadata": {},
   "source": [
    "Since the images are in square, the dimensions of the arrays are changed to (28,28) from (784)"
   ]
  },
  {
   "cell_type": "code",
   "execution_count": 9,
   "metadata": {},
   "outputs": [
    {
     "name": "stdout",
     "output_type": "stream",
     "text": [
      "new \n",
      "x_train => (42000, 28, 28, 1)\n",
      "y_train => (42000,)\n",
      "x_test => (28000, 28, 28, 1)\n"
     ]
    }
   ],
   "source": [
    "x_train = np.array(x_train).reshape(x_train.shape[0], 28, 28, 1)\n",
    "x_test = np.array(x_test).reshape(x_test.shape[0], 28, 28, 1)\n",
    "print(\"new \\nx_train => {0}\\ny_train => {1}\\nx_test => {2}\".format(x_train.shape, y_train.shape,x_test.shape))"
   ]
  },
  {
   "cell_type": "markdown",
   "metadata": {},
   "source": [
    "Data Visualization"
   ]
  },
  {
   "cell_type": "code",
   "execution_count": 10,
   "metadata": {},
   "outputs": [
    {
     "data": {
      "image/png": "[encoded data removed]",
      "text/plain": [
       "<Figure size 640x480 with 1 Axes>"
      ]
     },
     "metadata": {},
     "output_type": "display_data"
    }
   ],
   "source": [
    "#plt.imshow(train[1]\n",
    "def display_img(i):\n",
    "    #img = x_train.iloc[i].values.reshape((28,28))\n",
    "    plt.imshow(x_train[i],cmap = 'gray')\n",
    "    plt.title(y_train[i])   #prints number shown in the image\n",
    "    plt.axis('off')\n",
    "\n",
    "display_img(5) #diplays the image at index i in train.csv"
   ]
  },
  {
   "cell_type": "markdown",
   "metadata": {},
   "source": [
    "Pre Processing\n",
    "Norma"
   ]
  },
  {
   "cell_type": "code",
   "execution_count": 11,
   "metadata": {},
   "outputs": [],
   "source": [
    "x_train = x_train.astype(np.float32)/255\n",
    "x_test = x_test.astype(np.float32)/255"
   ]
  },
  {
   "cell_type": "markdown",
   "metadata": {},
   "source": [
    "Converting y_train labels(0-9) from scaler to one hot vectors "
   ]
  },
  {
   "cell_type": "code",
   "execution_count": 12,
   "metadata": {},
   "outputs": [
    {
     "data": {
      "text/plain": [
       "array([1, 0, 1, ..., 7, 6, 9], dtype=int64)"
      ]
     },
     "execution_count": 12,
     "metadata": {},
     "output_type": "execute_result"
    }
   ],
   "source": [
    "y_train"
   ]
  },
  {
   "cell_type": "code",
   "execution_count": 13,
   "metadata": {},
   "outputs": [],
   "source": [
    "y_train = keras.utils.to_categorical(y_train)"
   ]
  },
  {
   "cell_type": "code",
   "execution_count": 14,
   "metadata": {},
   "outputs": [
    {
     "data": {
      "text/plain": [
       "array([[0., 1., 0., ..., 0., 0., 0.],\n",
       "       [1., 0., 0., ..., 0., 0., 0.],\n",
       "       [0., 1., 0., ..., 0., 0., 0.],\n",
       "       ...,\n",
       "       [0., 0., 0., ..., 1., 0., 0.],\n",
       "       [0., 0., 0., ..., 0., 0., 0.],\n",
       "       [0., 0., 0., ..., 0., 0., 1.]], dtype=float32)"
      ]
     },
     "execution_count": 14,
     "metadata": {},
     "output_type": "execute_result"
    }
   ],
   "source": [
    "y_train"
   ]
  },
  {
   "cell_type": "code",
   "execution_count": 15,
   "metadata": {},
   "outputs": [
    {
     "name": "stderr",
     "output_type": "stream",
     "text": [
      "c:\\Users\\Vanish\\AppData\\Local\\Programs\\Python\\Python310\\lib\\site-packages\\matplotlib\\text.py:1241: FutureWarning: elementwise comparison failed; returning scalar instead, but in the future will perform elementwise comparison\n",
      "  if s != self._text:\n"
     ]
    },
    {
     "data": {
      "text/plain": [
       "Text(0.5, 1.0, '[0. 0. 0. 0. 0. 0. 0. 1. 0. 0.]')"
      ]
     },
     "execution_count": 15,
     "metadata": {},
     "output_type": "execute_result"
    },
    {
     "data": {
      "image/png": "[encoded data removed]",
      "text/plain": [
       "<Figure size 640x480 with 1 Axes>"
      ]
     },
     "metadata": {},
     "output_type": "display_data"
    }
   ],
   "source": [
    "plt.plot(y_train[6])\n",
    "plt.title(y_train[6])"
   ]
  },
  {
   "cell_type": "markdown",
   "metadata": {},
   "source": [
    "Building Model"
   ]
  },
  {
   "cell_type": "markdown",
   "metadata": {},
   "source": [
    "Model 1"
   ]
  },
  {
   "cell_type": "code",
   "execution_count": 16,
   "metadata": {},
   "outputs": [],
   "source": [
    "model = keras.models.Sequential()\n",
    "model.add(Conv2D(32, (3,3), input_shape = (28,28,1), activation = 'relu') )\n",
    "model.add(MaxPool2D((2,2)))\n",
    "model.add(Conv2D(64, (3,3), activation = 'relu') )\n",
    "model.add(MaxPool2D((2,2)))\n",
    "model.add(Flatten())\n",
    "model.add(Dropout(0.25))\n",
    "model.add(Dense(10, activation = \"softmax\"))\n"
   ]
  },
  {
   "cell_type": "code",
   "execution_count": 17,
   "metadata": {},
   "outputs": [],
   "source": [
    "model.compile(optimizer = 'adam', loss = keras.losses.categorical_crossentropy, metrics = ['accuracy'])"
   ]
  },
  {
   "cell_type": "code",
   "execution_count": 18,
   "metadata": {},
   "outputs": [
    {
     "name": "stdout",
     "output_type": "stream",
     "text": [
      "Model: \"sequential\"\n",
      "_________________________________________________________________\n",
      " Layer (type)                Output Shape              Param #   \n",
      "=================================================================\n",
      " conv2d (Conv2D)             (None, 26, 26, 32)        320       \n",
      "                                                                 \n",
      " max_pooling2d (MaxPooling2D  (None, 13, 13, 32)       0         \n",
      " )                                                               \n",
      "                                                                 \n",
      " conv2d_1 (Conv2D)           (None, 11, 11, 64)        18496     \n",
      "                                                                 \n",
      " max_pooling2d_1 (MaxPooling  (None, 5, 5, 64)         0         \n",
      " 2D)                                                             \n",
      "                                                                 \n",
      " flatten (Flatten)           (None, 1600)              0         \n",
      "                                                                 \n",
      " dropout (Dropout)           (None, 1600)              0         \n",
      "                                                                 \n",
      " dense (Dense)               (None, 10)                16010     \n",
      "                                                                 \n",
      "=================================================================\n",
      "Total params: 34,826\n",
      "Trainable params: 34,826\n",
      "Non-trainable params: 0\n",
      "_________________________________________________________________\n"
     ]
    }
   ],
   "source": [
    "model.summary()"
   ]
  },
  {
   "cell_type": "code",
   "execution_count": 19,
   "metadata": {},
   "outputs": [],
   "source": [
    "es = EarlyStopping(monitor='val_accuracy', min_delta= 0.01, patience= 4, verbose= 1)\n",
    "mc = ModelCheckpoint(\"./models/tf_model_1.h5\", monitor= \"val_accuracy\", verbose= 1, save_best_only= True)\n",
    "c = [es, mc]"
   ]
  },
  {
   "cell_type": "code",
   "execution_count": 20,
   "metadata": {},
   "outputs": [
    {
     "name": "stdout",
     "output_type": "stream",
     "text": [
      "Epoch 1/5\n",
      "914/919 [============================>.] - ETA: 0s - loss: 0.2691 - accuracy: 0.9206\n",
      "Epoch 1: val_accuracy improved from -inf to 0.96897, saving model to ./models\\tf_model_1.h5\n",
      "919/919 [==============================] - 10s 10ms/step - loss: 0.2680 - accuracy: 0.9210 - val_loss: 0.1006 - val_accuracy: 0.9690\n",
      "Epoch 2/5\n",
      "917/919 [============================>.] - ETA: 0s - loss: 0.0898 - accuracy: 0.9728\n",
      "Epoch 2: val_accuracy improved from 0.96897 to 0.98008, saving model to ./models\\tf_model_1.h5\n",
      "919/919 [==============================] - 9s 10ms/step - loss: 0.0898 - accuracy: 0.9728 - val_loss: 0.0651 - val_accuracy: 0.9801\n",
      "Epoch 3/5\n",
      "916/919 [============================>.] - ETA: 0s - loss: 0.0657 - accuracy: 0.9796\n",
      "Epoch 3: val_accuracy improved from 0.98008 to 0.98326, saving model to ./models\\tf_model_1.h5\n",
      "919/919 [==============================] - 9s 10ms/step - loss: 0.0656 - accuracy: 0.9796 - val_loss: 0.0546 - val_accuracy: 0.9833\n",
      "Epoch 4/5\n",
      "918/919 [============================>.] - ETA: 0s - loss: 0.0511 - accuracy: 0.9836\n",
      "Epoch 4: val_accuracy improved from 0.98326 to 0.98397, saving model to ./models\\tf_model_1.h5\n",
      "919/919 [==============================] - 9s 9ms/step - loss: 0.0511 - accuracy: 0.9836 - val_loss: 0.0530 - val_accuracy: 0.9840\n",
      "Epoch 5/5\n",
      "917/919 [============================>.] - ETA: 0s - loss: 0.0437 - accuracy: 0.9856\n",
      "Epoch 5: val_accuracy improved from 0.98397 to 0.98476, saving model to ./models\\tf_model_1.h5\n",
      "919/919 [==============================] - 9s 10ms/step - loss: 0.0437 - accuracy: 0.9855 - val_loss: 0.0504 - val_accuracy: 0.9848\n"
     ]
    }
   ],
   "source": [
    "train_model = model.fit(x_train, y_train, epochs=5, validation_split=0.3, callbacks=c)"
   ]
  },
  {
   "cell_type": "code",
   "execution_count": 33,
   "metadata": {},
   "outputs": [
    {
     "name": "stdout",
     "output_type": "stream",
     "text": [
      "1313/1313 [==============================] - 3s 2ms/step - loss: 0.0340 - accuracy: 0.9892\n"
     ]
    }
   ],
   "source": [
    "save_model = keras.models.load_model(\"C:/Users/Vanish/Desktop/code/HandwrittenDigitRecognition/models/tf_model_1.h5\")\n",
    "score = save_model.evaluate(x_train, y_train)\n"
   ]
  },
  {
   "cell_type": "code",
   "execution_count": 40,
   "metadata": {},
   "outputs": [
    {
     "name": "stdout",
     "output_type": "stream",
     "text": [
      " the model accuracy is 98.92380833625793 %\n"
     ]
    }
   ],
   "source": [
    "print(f\" the model accuracy is {score[1]*100} %\")"
   ]
  },
  {
   "cell_type": "markdown",
   "metadata": {},
   "source": [
    "Model 2"
   ]
  },
  {
   "cell_type": "code",
   "execution_count": 23,
   "metadata": {},
   "outputs": [],
   "source": [
    "# model2 = tf.keras.Sequential([\n",
    "#         tf.keras.layers.Conv2D(64,(3,3) , input_shape=(28,28,1) , activation='relu'),\n",
    "#         tf.keras.layers.MaxPooling2D(2,2),\n",
    "#         tf.keras.layers.Conv2D(64,(3,3) , input_shape=(28,28,1) , activation='relu'),\n",
    "#         tf.keras.layers.MaxPooling2D(2,2),\n",
    "\n",
    "#         tf.keras.layers.Flatten(),\n",
    "#         tf.keras.layers.Dense(128 , activation='relu'),\n",
    "#         tf.keras.layers.Dense(10 , activation='softmax')\n",
    "\n",
    "# ])"
   ]
  },
  {
   "cell_type": "code",
   "execution_count": 24,
   "metadata": {},
   "outputs": [],
   "source": [
    "# model2.compile(optimizer='adam' , loss='sparse_categorical_crossentropy')"
   ]
  },
  {
   "cell_type": "code",
   "execution_count": 25,
   "metadata": {},
   "outputs": [],
   "source": [
    "# model2.summary()"
   ]
  },
  {
   "cell_type": "code",
   "execution_count": 26,
   "metadata": {},
   "outputs": [],
   "source": [
    "# model2.fit(x_train ,y_train ,epochs=5)"
   ]
  }
 ],
 "metadata": {
  "kernelspec": {
   "display_name": "Python 3.10.7 64-bit",
   "language": "python",
   "name": "python3"
  },
  "language_info": {
   "codemirror_mode": {
    "name": "ipython",
    "version": 3
   },
   "file_extension": ".py",
   "mimetype": "text/x-python",
   "name": "python",
   "nbconvert_exporter": "python",
   "pygments_lexer": "ipython3",
   "version": "3.10.7"
  },
  "orig_nbformat": 4,
  "vscode": {
   "interpreter": {
    "hash": "7d718473f556f50354be1277bd81e2e9fdec92afea803e3f5f707c953c55e309"
   }
  }
 },
 "nbformat": 4,
 "nbformat_minor": 2
}
